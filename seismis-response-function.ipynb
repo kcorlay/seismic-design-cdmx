{
 "cells": [
  {
   "cell_type": "markdown",
   "metadata": {},
   "source": [
    "# My goal is to code a seismic response spectrum period graph for different terrain types in mexico"
   ]
  },
  {
   "cell_type": "code",
   "execution_count": 1,
   "metadata": {},
   "outputs": [],
   "source": [
    "# Code\n",
    "import matplotlib.pyplot as plt\n",
    "import numpy as np\n",
    "\n",
    "# a0 = initial acceleration\n",
    "# c = maximum acceleration\n",
    "# based on the 2015 Handbook of Civil Works of Federal Commission of Electricity Seismic Design Chapter\n",
    "\n",
    "def plot_response(ao, c, terrain, station):\n",
    "    \n",
    "    damping = 1\n",
    "    if terrain == \"firm\":\n",
    "        ta = 0.1\n",
    "        tb = 0.6\n",
    "        tc = 2.0\n",
    "        k = 1.5\n",
    "        r = 0.5\n",
    "        color = 'g'\n",
    "    if terrain == \"mixed\":\n",
    "        ta = 0.2\n",
    "        tb = 1.4\n",
    "        tc = 2.0\n",
    "        k = 1.0\n",
    "        r = 0.33\n",
    "        color = 'm'\n",
    "    if terrain == \"bland\":\n",
    "        ta = 0.3\n",
    "        tb = 2.0\n",
    "        tc = 2.0\n",
    "        k = 0.5\n",
    "        r = 1\n",
    "        color = 'c'\n",
    "    x = np.arange(0., 4., 0.1)\n",
    "\n",
    "    plt.plot(x, np.piecewise(x, [x < ta, ((x >= ta) & (x < tb)), ((x >= tb) & (x < tc)), x >= tc], \n",
    "             [lambda x : ao + (c * damping -ao)*(x/ta),\n",
    "              lambda x : c * damping,\n",
    "              lambda x : c * damping * (tb/x)**r,\n",
    "              lambda x : c * damping * ((tb/tc)**r) * (k + (1-k)*((tc/x)**2)) * (tc/x)**2]), color, linewidth =2.5)\n",
    "    if terrain == \"firm\":\n",
    "        plt.title(\"{} (Firm Terrain)\".format(station))\n",
    "    if terrain == \"mixed\":\n",
    "        plt.title(\"{} (Mixed Terrain)\".format(station))\n",
    "    if terrain == \"bland\":\n",
    "        plt.title(\"{} (Bland Terrain)\".format(station))\n",
    "    plt.xlabel(\"Period (s)\")\n",
    "    plt.ylabel(\"Acceleration (cm/s^2)\")\n"
   ]
  },
  {
   "cell_type": "code",
   "execution_count": null,
   "metadata": {},
   "outputs": [],
   "source": []
  }
 ],
 "metadata": {
  "kernelspec": {
   "display_name": "Python 3",
   "language": "python",
   "name": "python3"
  },
  "language_info": {
   "codemirror_mode": {
    "name": "ipython",
    "version": 3
   },
   "file_extension": ".py",
   "mimetype": "text/x-python",
   "name": "python",
   "nbconvert_exporter": "python",
   "pygments_lexer": "ipython3",
   "version": "3.8.5"
  }
 },
 "nbformat": 4,
 "nbformat_minor": 4
}
